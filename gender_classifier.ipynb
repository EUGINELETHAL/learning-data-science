{
 "cells": [
  {
   "cell_type": "markdown",
   "metadata": {},
   "source": [
    "* We are going to build a gender classifier using scikit-learn with only a few lines of code. \n",
    "* Our model will be able to predict a person's  gender based only on their physical or biometric features. \n",
    "* We will use height, weight and shoe size data to train the decision tree classifier.\n",
    "* A decision tree is a decision support model that classifies decisions and creates branches for every possible outcome.\n"
   ]
  },
  {
   "cell_type": "code",
   "execution_count": 5,
   "metadata": {},
   "outputs": [],
   "source": [
    "# import scikit-learn\n",
    "from sklearn import tree\n",
    "\n",
    "# height, weight and shoe size data\n",
    "X = [\n",
    "    [181,80, 44], [177, 70, 43], [160, 60, 38], [154, 54, 37], \n",
    "    [166, 65, 40], [190, 90, 47], [175, 64, 39],[159, 55, 37], \n",
    "    [171,75,42], [181, 85, 43]\n",
    "]\n",
    "# corresponds to the data above\n",
    "Y = ['male', 'male', 'female', 'female',\n",
    "     'female', 'male', 'female', 'female',\n",
    "     'male', 'male']\n",
    "\n",
    "classifier = tree.DecisionTreeClassifier()\n",
    "\n",
    "# train the decision tree on our data\n",
    "classifier.fit(X,Y)\n",
    "\n",
    "# predict the gender\n",
    "prediction = classifier.predict([[190, 70, 43]])\n",
    "\n",
    "\n",
    "\n"
   ]
  },
  {
   "cell_type": "code",
   "execution_count": 6,
   "metadata": {},
   "outputs": [
    {
     "name": "stdout",
     "output_type": "stream",
     "text": [
      "['male']\n"
     ]
    }
   ],
   "source": [
    "print (prediction)"
   ]
  },
  {
   "cell_type": "code",
   "execution_count": null,
   "metadata": {
    "collapsed": true
   },
   "outputs": [],
   "source": []
  }
 ],
 "metadata": {
  "kernelspec": {
   "display_name": "Python [default]",
   "language": "python",
   "name": "python3"
  },
  "language_info": {
   "codemirror_mode": {
    "name": "ipython",
    "version": 3
   },
   "file_extension": ".py",
   "mimetype": "text/x-python",
   "name": "python",
   "nbconvert_exporter": "python",
   "pygments_lexer": "ipython3",
   "version": "3.6.3"
  }
 },
 "nbformat": 4,
 "nbformat_minor": 2
}
