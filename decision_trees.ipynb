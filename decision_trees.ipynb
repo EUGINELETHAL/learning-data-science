{
 "cells": [
  {
   "cell_type": "markdown",
   "metadata": {},
   "source": [
    "#### Entropy\n",
    "In order to understand decision trees, we have to learn about entropy. \n",
    "Entropy is the degree of randomness or disorder in the system.\n",
    "\n",
    "Let's use water ice and vapour to explain this concept. \n",
    "\n",
    "Ice has a low entropy because particles cannot move around at all, water has some particles moving around so it's medium entropy. Vapour has a higher entropy because its particles have the freedom to move around faster and further.\n",
    "\n",
    "So the more rigid(homogeneous) the set, the less entropy it will have and vice versa. Also the more knowledge one has on a set, the less entropy and vice versa. A set that has different entities has much more entropy than a set containing an entity of the same nature.\n"
   ]
  },
  {
   "cell_type": "raw",
   "metadata": {},
   "source": [
    " #### Hyperparameters for Decision Trees\n",
    "For us to create decision trees that will generalize well, we need to tune some aspects of the trees. These aspects are called hyperparameters.\n",
    "\n",
    "Here are the most important ones:\n",
    "1. Maximum Depth –– This is the largest length between the root and a leaf. A tree with length $k$ can have at most $2^k$ leaves\n",
    "2. Minumum number of samples per leaf –– To prevent instances like having 99% of the samples being in a single leaf and only 1% on the other, we can set a minimum for the number of sample for each leaf.\n",
    "3. Maximum number of features –– most times we have too many features to build a tree. On every split, it would be expensive to check the entire dataset on each of the features. A solution for this is to limit the number of features that we look for in each split.\n",
    "\n",
    "Points to note:\n",
    "* Large depths can cause overfitting –– a tree that is too deep can memorize data. we don't want that.\n",
    "* Small depths can cause underfitting –– a tree that is too small can result in a very simple model.\n",
    "* Small minimum samples per leaf –– results in leafs with very small samples which results in the tree memorizing data/overfitting\n",
    "* Large minimum samples per lead –– results in leafs that have very large samples which lead to smaller underfitted models\n",
    "\n",
    "\n",
    "\n"
   ]
  },
  {
   "cell_type": "markdown",
   "metadata": {},
   "source": [
    "#### Let's fit a decision tree!\n",
    "Tools we need to create a decision tree\n",
    "* Scikit-learn –– we'll create a decision tree model using Scikit-learn's `Decision Tree Classifier` class.\n",
    "This class provides a way to fit our model to the data.\n"
   ]
  },
  {
   "cell_type": "markdown",
   "metadata": {},
   "source": [
    "#### 1. Load the data\n",
    "The data we'll be using is in a data.csv file. It has three columns, the first 2 contains cordinates of the points, and the third one of the label.\n",
    "\n",
    "We'll then split the data intro features `X` and labels `y`\n",
    "\n",
    "    "
   ]
  },
  {
   "cell_type": "code",
   "execution_count": 21,
   "metadata": {},
   "outputs": [],
   "source": [
    "# read the data\n",
    "data = np.asarray(pd.read_csv('decision-tree-data.csv', header=None))\n",
    "# assign features to variable X, and the labels to variable y\n",
    "X = data[:, 0:2]\n",
    "y = data[:,2]"
   ]
  },
  {
   "cell_type": "markdown",
   "metadata": {},
   "source": [
    "#### 2. Build the decision tree model\n",
    "When we define the model, we can specify hyperparameters such as:\n",
    "* `max_depth` –– maximum number of levels in the tree\n",
    "* `min_samples_leaf` –– minimum number of samples allowed in a leaf\n",
    "* `min_samples_split` –– minimum number of samples required to split an internal node.\n",
    "* `max_features` –– number of features to consider when looking for the best split."
   ]
  },
  {
   "cell_type": "code",
   "execution_count": 26,
   "metadata": {},
   "outputs": [],
   "source": [
    "model = DecisionTreeClassifier(max_depth=7, min_samples_leaf=1, max_features=2)"
   ]
  },
  {
   "cell_type": "markdown",
   "metadata": {},
   "source": [
    "#### 3. Fit the model to the data"
   ]
  },
  {
   "cell_type": "code",
   "execution_count": 27,
   "metadata": {
    "scrolled": false
   },
   "outputs": [
    {
     "data": {
      "text/plain": [
       "DecisionTreeClassifier(class_weight=None, criterion='gini', max_depth=7,\n",
       "            max_features=2, max_leaf_nodes=None, min_impurity_decrease=0.0,\n",
       "            min_impurity_split=None, min_samples_leaf=1,\n",
       "            min_samples_split=2, min_weight_fraction_leaf=0.0,\n",
       "            presort=False, random_state=None, splitter='best')"
      ]
     },
     "execution_count": 27,
     "metadata": {},
     "output_type": "execute_result"
    }
   ],
   "source": [
    "model.fit(X, y)"
   ]
  },
  {
   "cell_type": "markdown",
   "metadata": {},
   "source": [
    "#### 4. Predict using the model\n"
   ]
  },
  {
   "cell_type": "code",
   "execution_count": 28,
   "metadata": {},
   "outputs": [],
   "source": [
    "# make predictions\n",
    "y_predict = model.predict(X)"
   ]
  },
  {
   "cell_type": "markdown",
   "metadata": {},
   "source": [
    "#### 5. Calculate the accuracy of the model\n",
    "We'll use sklearn's function `accuracy_score()` to measure the accuracy metric. \n",
    "\n",
    "This process will help us finetune the hyperparameters to get an accuracy of 100% on the set. \n",
    "\n",
    "Although very large values for the parameters will fit the training set quite well, we should avoid them for they will do so by overfitting the model. \n",
    "\n",
    "We should rather find the smallest possible values that have a less chance of overfitting."
   ]
  },
  {
   "cell_type": "code",
   "execution_count": 35,
   "metadata": {},
   "outputs": [
    {
     "name": "stdout",
     "output_type": "stream",
     "text": [
      "Accuracy score is: 100.0%\n"
     ]
    }
   ],
   "source": [
    "# test the accuracy of the model\n",
    "score = accuracy_score(y, y_predict)\n",
    "print(\"Accuracy score is: {}%\".format(score * 100))\n"
   ]
  },
  {
   "cell_type": "code",
   "execution_count": null,
   "metadata": {},
   "outputs": [],
   "source": []
  }
 ],
 "metadata": {
  "kernelspec": {
   "display_name": "Python 3",
   "language": "python",
   "name": "python3"
  },
  "language_info": {
   "codemirror_mode": {
    "name": "ipython",
    "version": 3
   },
   "file_extension": ".py",
   "mimetype": "text/x-python",
   "name": "python",
   "nbconvert_exporter": "python",
   "pygments_lexer": "ipython3",
   "version": "3.6.5"
  }
 },
 "nbformat": 4,
 "nbformat_minor": 2
}
