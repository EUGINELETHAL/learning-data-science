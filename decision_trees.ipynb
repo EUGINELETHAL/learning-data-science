{
 "cells": [
  {
   "cell_type": "markdown",
   "metadata": {},
   "source": [
    "#### Entropy\n",
    "In order to understand decision trees, we have to learn about entropy. \n",
    "Entropy is the degree of randomness or disorder in the system.\n",
    "\n",
    "Let's use water ice and vapour to explain this concept. \n",
    "\n",
    "Ice has a low entropy because particles cannot move around at all, water has some particles moving around so it's medium entropy. Vapour has a higher entropy because its particles have the freedom to move around faster and further.\n",
    "\n",
    "So the more rigid(homogeneous) the set, the less entropy it will have and vice versa. Also the more knowledge one has on a set, the less entropy and vice versa. A set that has different entities has much more entropy than a set containing an entity of the same nature.\n"
   ]
  },
  {
   "cell_type": "code",
   "execution_count": null,
   "metadata": {},
   "outputs": [],
   "source": []
  }
 ],
 "metadata": {
  "kernelspec": {
   "display_name": "Python 3",
   "language": "python",
   "name": "python3"
  },
  "language_info": {
   "codemirror_mode": {
    "name": "ipython",
    "version": 3
   },
   "file_extension": ".py",
   "mimetype": "text/x-python",
   "name": "python",
   "nbconvert_exporter": "python",
   "pygments_lexer": "ipython3",
   "version": "3.6.5"
  }
 },
 "nbformat": 4,
 "nbformat_minor": 2
}
