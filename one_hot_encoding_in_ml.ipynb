{
 "cells": [
  {
   "cell_type": "markdown",
   "metadata": {},
   "source": [
    "## One Hot Encoding in Machine Learning\n",
    "Most machine learning algorithms cannot work with categorical data\n",
    "We need to represent this kind of data with something the algorithms can consume and work with.\n",
    "\n",
    "One hot encoding helps transform the categorical data into binary vectors.\n",
    "\n",
    "First, the categorical values is mapped to integer values.\n",
    "\n",
    "Then, each integer value is represented as a binary vector that is all zero values except the index of the integer, which is marked with a 1."
   ]
  },
  {
   "cell_type": "markdown",
   "metadata": {},
   "source": [
    "For example if we had this data\n",
    "```[python]\n",
    "[3, 4, 7, 1]\n",
    "```\n",
    "We can one hot encode it to\n",
    "\n",
    "```[python]\n",
    "[[0,0,0,1,0,0,0,0]\n",
    " [0,0,0,0,1,0,0,0]\n",
    " [0,0,0,0,0,0,0,1]\n",
    " [0,1,0,0,0.0,0,0]]\n",
    "```"
   ]
  },
  {
   "cell_type": "code",
   "execution_count": null,
   "metadata": {},
   "outputs": [],
   "source": []
  }
 ],
 "metadata": {
  "kernelspec": {
   "display_name": "Python 3",
   "language": "python",
   "name": "python3"
  },
  "language_info": {
   "codemirror_mode": {
    "name": "ipython",
    "version": 3
   },
   "file_extension": ".py",
   "mimetype": "text/x-python",
   "name": "python",
   "nbconvert_exporter": "python",
   "pygments_lexer": "ipython3",
   "version": "3.6.5"
  }
 },
 "nbformat": 4,
 "nbformat_minor": 2
}
