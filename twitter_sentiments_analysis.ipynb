{
 "cells": [
  {
   "cell_type": "markdown",
   "metadata": {},
   "source": [
    "#### Twitter Sentiments Analyzer\n",
    "Twitter is a treasure trove of sen`timents. People output thousands of reaction and opinions on pretty much any topic.\n",
    "\n",
    "We'll create a twitter sentiments analyzer which will have the ability to determin how positive or negative a tweets emotion is.\n",
    "\n",
    "The process:\n",
    "* We break down the tweets into small tokens and count the number of times each word shows up.\n",
    "* Then we look for the sentiments value of each word from the sentiments lexicon and classify the total sentiment value of our tweet.\n",
    "\n",
    "The steps are as follows:\n",
    "* Register for Twitter API\n",
    "* Install dependencies (pip install tweepy)\n",
    "* Write the script\n"
   ]
  },
  {
   "cell_type": "code",
   "execution_count": 4,
   "metadata": {},
   "outputs": [],
   "source": [
    "import os\n",
    "import tweepy\n",
    "from textblob import TextBlob\n",
    "\n",
    "consumer_key = os.getenv(\"CONSUMER_KEY\")\n",
    "consumer_secret = os.getenv(\"CONSUMER_SECRET\")\n",
    "\n",
    "access_token = os.getenv(\"ACCESS_TOKEN\")\n",
    "access_token_secret = os.getenv(\"ACCESS_TOKEN_SECRET\")\n",
    "\n",
    "# authenticate with the Twitter API\n",
    "auth = tweepy.OAuthHandler(consumer_key, consumer_secret)\n",
    "# set access token\n",
    "auth.set_access_token(access_token, access_token_secret)\n",
    "\n",
    "api = tweepy.API(auth)\n",
    "\n",
    "# search for some tweets\n",
    "public_tweets = api.search(\"Trump\")\n",
    "\n",
    "# loop through tweets and display their sentiments\n",
    "for tweet in public_tweets:\n",
    "    print (tweet.text)\n",
    "    \n",
    "    analysis = TextBlob(tweet.text)\n",
    "    print (analysis.sentiment)\n"
   ]
  },
  {
   "cell_type": "code",
   "execution_count": null,
   "metadata": {
    "collapsed": true
   },
   "outputs": [],
   "source": []
  }
 ],
 "metadata": {
  "kernelspec": {
   "display_name": "Python [default]",
   "language": "python",
   "name": "python3"
  },
  "language_info": {
   "codemirror_mode": {
    "name": "ipython",
    "version": 3
   },
   "file_extension": ".py",
   "mimetype": "text/x-python",
   "name": "python",
   "nbconvert_exporter": "python",
   "pygments_lexer": "ipython3",
   "version": "3.6.3"
  }
 },
 "nbformat": 4,
 "nbformat_minor": 2
}
